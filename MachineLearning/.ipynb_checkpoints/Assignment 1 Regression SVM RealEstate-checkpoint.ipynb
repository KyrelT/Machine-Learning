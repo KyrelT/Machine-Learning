{
 "cells": [
  {
   "cell_type": "code",
   "execution_count": 2,
   "id": "5d9cb672",
   "metadata": {},
   "outputs": [],
   "source": [
    "import numpy as np\n",
    "import tensorflow as tf\n",
    "import math\n",
    "import logging\n",
    "import matplotlib.pyplot as plt\n",
    "import pandas as pd\n",
    "import seaborn as sns\n",
    "from numpy import mean, absolute\n",
    "from sklearn.model_selection import train_test_split, cross_val_score, KFold, GridSearchCV\n",
    "from sklearn.metrics import r2_score, explained_variance_score\n",
    "from sklearn.metrics import mean_squared_error as MSE\n",
    "from sklearn.preprocessing import StandardScaler\n",
    "from sklearn.svm import SVR"
   ]
  },
  {
   "cell_type": "code",
   "execution_count": 3,
   "id": "c3b72789",
   "metadata": {},
   "outputs": [
    {
     "data": {
      "text/html": [
       "<div>\n",
       "<style scoped>\n",
       "    .dataframe tbody tr th:only-of-type {\n",
       "        vertical-align: middle;\n",
       "    }\n",
       "\n",
       "    .dataframe tbody tr th {\n",
       "        vertical-align: top;\n",
       "    }\n",
       "\n",
       "    .dataframe thead th {\n",
       "        text-align: right;\n",
       "    }\n",
       "</style>\n",
       "<table border=\"1\" class=\"dataframe\">\n",
       "  <thead>\n",
       "    <tr style=\"text-align: right;\">\n",
       "      <th></th>\n",
       "      <th>houseAge</th>\n",
       "      <th>nearestDistancetomrt</th>\n",
       "      <th>NoConvenienceStores</th>\n",
       "      <th>latitude</th>\n",
       "      <th>longitude</th>\n",
       "      <th>YHousePriceofUnitArea</th>\n",
       "    </tr>\n",
       "  </thead>\n",
       "  <tbody>\n",
       "    <tr>\n",
       "      <th>0</th>\n",
       "      <td>32.0</td>\n",
       "      <td>84.87882</td>\n",
       "      <td>10</td>\n",
       "      <td>24.98298</td>\n",
       "      <td>121.54024</td>\n",
       "      <td>37.9</td>\n",
       "    </tr>\n",
       "    <tr>\n",
       "      <th>1</th>\n",
       "      <td>19.5</td>\n",
       "      <td>306.59470</td>\n",
       "      <td>9</td>\n",
       "      <td>24.98034</td>\n",
       "      <td>121.53951</td>\n",
       "      <td>42.2</td>\n",
       "    </tr>\n",
       "    <tr>\n",
       "      <th>2</th>\n",
       "      <td>13.3</td>\n",
       "      <td>561.98450</td>\n",
       "      <td>5</td>\n",
       "      <td>24.98746</td>\n",
       "      <td>121.54391</td>\n",
       "      <td>47.3</td>\n",
       "    </tr>\n",
       "    <tr>\n",
       "      <th>3</th>\n",
       "      <td>13.3</td>\n",
       "      <td>561.98450</td>\n",
       "      <td>5</td>\n",
       "      <td>24.98746</td>\n",
       "      <td>121.54391</td>\n",
       "      <td>54.8</td>\n",
       "    </tr>\n",
       "    <tr>\n",
       "      <th>4</th>\n",
       "      <td>5.0</td>\n",
       "      <td>390.56840</td>\n",
       "      <td>5</td>\n",
       "      <td>24.97937</td>\n",
       "      <td>121.54245</td>\n",
       "      <td>43.1</td>\n",
       "    </tr>\n",
       "  </tbody>\n",
       "</table>\n",
       "</div>"
      ],
      "text/plain": [
       "   houseAge  nearestDistancetomrt  NoConvenienceStores  latitude  longitude  \\\n",
       "0      32.0              84.87882                   10  24.98298  121.54024   \n",
       "1      19.5             306.59470                    9  24.98034  121.53951   \n",
       "2      13.3             561.98450                    5  24.98746  121.54391   \n",
       "3      13.3             561.98450                    5  24.98746  121.54391   \n",
       "4       5.0             390.56840                    5  24.97937  121.54245   \n",
       "\n",
       "   YHousePriceofUnitArea  \n",
       "0                   37.9  \n",
       "1                   42.2  \n",
       "2                   47.3  \n",
       "3                   54.8  \n",
       "4                   43.1  "
      ]
     },
     "execution_count": 3,
     "metadata": {},
     "output_type": "execute_result"
    }
   ],
   "source": [
    "df = pd.read_csv(\"C:/Users/Asus/Desktop/Uni/Y3/MachineLearning/RealEstate.csv\",index_col=False)\n",
    "df.drop(['No','X1 transaction date'],axis=1,inplace = True)\n",
    "df.rename(columns={\"X2 house age\" :\"houseAge\",\"X3 distance to the nearest MRT station\" : \"nearestDistancetomrt\", \"X4 number of convenience stores\" : \"NoConvenienceStores\",\"X5 latitude\" : \"latitude\",\"X6 longitude\" :\"longitude\", \"Y house price of unit area\":\"YHousePriceofUnitArea\"}, inplace = True)\n",
    "df.head()"
   ]
  },
  {
   "cell_type": "code",
   "execution_count": 4,
   "id": "5b7b0e92",
   "metadata": {},
   "outputs": [],
   "source": [
    "X = df.drop('YHousePriceofUnitArea', axis = 1)\n",
    "y = df['YHousePriceofUnitArea']"
   ]
  },
  {
   "cell_type": "code",
   "execution_count": 5,
   "id": "9a34be35",
   "metadata": {},
   "outputs": [],
   "source": [
    "y = y.values.reshape(414,1)"
   ]
  },
  {
   "cell_type": "markdown",
   "id": "feae8e1f",
   "metadata": {},
   "source": [
    "In the first step we will split the data in training and remaining dataset"
   ]
  },
  {
   "cell_type": "code",
   "execution_count": 6,
   "id": "2dd5946b",
   "metadata": {},
   "outputs": [],
   "source": [
    "X_train, X_test, y_train, y_test = train_test_split(X, y, test_size = 0.2, random_state=40)"
   ]
  },
  {
   "cell_type": "code",
   "execution_count": 7,
   "id": "5be61001",
   "metadata": {},
   "outputs": [],
   "source": [
    "# normalise the features to use zero mean normalisation\n",
    "sc = StandardScaler()\n",
    "X_train = sc.fit_transform(X_train)\n",
    "X_test = sc.fit_transform(X_test)\n",
    "X_st = sc.fit_transform(X)"
   ]
  },
  {
   "cell_type": "code",
   "execution_count": 8,
   "id": "7da7084a",
   "metadata": {},
   "outputs": [
    {
     "name": "stdout",
     "output_type": "stream",
     "text": [
      "Mean Squared Error before parameter tuning 48.11\n"
     ]
    }
   ],
   "source": [
    "model = SVR(kernel='rbf', gamma= 'scale')\n",
    "model.fit(X_train, np.ravel(y_train))\n",
    "model_pred = model.predict(X_test)\n",
    "\n",
    "print('Mean Squared Error before parameter tuning {:.2f}'.format(MSE(y_test,model_pred)))"
   ]
  },
  {
   "cell_type": "code",
   "execution_count": 35,
   "id": "9bf8cde0",
   "metadata": {},
   "outputs": [
    {
     "name": "stderr",
     "output_type": "stream",
     "text": [
      "C:\\Users\\Asus\\anaconda3\\envs\\mle_tf\\lib\\site-packages\\ipykernel_launcher.py:1: UserWarning: \n",
      "\n",
      "`distplot` is a deprecated function and will be removed in seaborn v0.14.0.\n",
      "\n",
      "Please adapt your code to use either `displot` (a figure-level function with\n",
      "similar flexibility) or `histplot` (an axes-level function for histograms).\n",
      "\n",
      "For a guide to updating your code to use the new functions, please see\n",
      "https://gist.github.com/mwaskom/de44147ed2974457ad6372750bbe5751\n",
      "\n",
      "  \"\"\"Entry point for launching an IPython kernel.\n"
     ]
    },
    {
     "data": {
      "text/plain": [
       "<matplotlib.axes._subplots.AxesSubplot at 0x25076b73308>"
      ]
     },
     "execution_count": 35,
     "metadata": {},
     "output_type": "execute_result"
    },
    {
     "data": {
      "image/png": "[encoded data removed]",
      "text/plain": [
       "<Figure size 640x480 with 1 Axes>"
      ]
     },
     "metadata": {},
     "output_type": "display_data"
    }
   ],
   "source": [
    "sns.distplot(y_test-model_pred)"
   ]
  },
  {
   "cell_type": "code",
   "execution_count": 31,
   "id": "765dfc6a",
   "metadata": {},
   "outputs": [
    {
     "data": {
      "text/plain": [
       "[<matplotlib.lines.Line2D at 0x250708a4a48>]"
      ]
     },
     "execution_count": 31,
     "metadata": {},
     "output_type": "execute_result"
    },
    {
     "data": {
      "image/png": "[encoded data removed]",
      "text/plain": [
       "<Figure size 640x480 with 1 Axes>"
      ]
     },
     "metadata": {},
     "output_type": "display_data"
    }
   ],
   "source": [
    "plt.scatter(y_test,model_pred)\n",
    "plt.plot(model_pred, model.predict(X_test),color = 'red')"
   ]
  },
  {
   "cell_type": "markdown",
   "id": "7ac9622f",
   "metadata": {},
   "source": [
    " Parameter Tuning for Support Vector Machine Regression"
   ]
  },
  {
   "cell_type": "code",
   "execution_count": 9,
   "id": "01276117",
   "metadata": {},
   "outputs": [],
   "source": [
    "SVR_param_grid = {'C':[0.01, 0.1, 1,10],'kernel':['linear','rbf'],'gamma':[0.001,0.01,0.1,1,10], 'epsilon':[0.01,0.1,1,10]}"
   ]
  },
  {
   "cell_type": "markdown",
   "id": "8927b55e",
   "metadata": {},
   "source": [
    "Define Grid Search"
   ]
  },
  {
   "cell_type": "code",
   "execution_count": 10,
   "id": "69f11c72",
   "metadata": {},
   "outputs": [
    {
     "name": "stdout",
     "output_type": "stream",
     "text": [
      "Best params for SVR:  {'C': 10, 'epsilon': 1, 'gamma': 1, 'kernel': 'rbf'}\n",
      "Best score for SVR:  69.93859302498399\n"
     ]
    }
   ],
   "source": [
    "#Find the best parameters\n",
    "svr_cv = KFold(n_splits = 5)\n",
    "svr_grid = GridSearchCV(SVR(), SVR_param_grid, cv=svr_cv, scoring='neg_mean_squared_error')\n",
    "svr_grid.fit(X_train, np.ravel(y_train))\n",
    "\n",
    "#Summarize results\n",
    "print(\"Best params for SVR: \", svr_grid.best_params_)\n",
    "print(\"Best score for SVR: \", absolute(svr_grid.best_score_))"
   ]
  },
  {
   "cell_type": "code",
   "execution_count": 13,
   "id": "8268f5f9",
   "metadata": {},
   "outputs": [],
   "source": [
    "# After getting the best parameters \n",
    "svr_model = SVR(C=10,epsilon = 1, gamma = 1, kernel = 'rbf')\n",
    "svr_model.fit(X_train, np.ravel(y_train))\n",
    "svr_pred = svr_model.predict(X_test)"
   ]
  },
  {
   "cell_type": "code",
   "execution_count": 14,
   "id": "9d9055a2",
   "metadata": {},
   "outputs": [
    {
     "name": "stdout",
     "output_type": "stream",
     "text": [
      "r2 score is 0.62\n",
      "Mean Squared Error after parameter tuning: 47.23\n"
     ]
    }
   ],
   "source": [
    "score = r2_score(y_test,svr_pred)\n",
    "print('r2 score is {:.2f}'.format(score))  # higher better \n",
    "print('Mean Squared Error after parameter tuning: {:.2f}' .format(MSE(y_test, svr_pred)))"
   ]
  },
  {
   "cell_type": "code",
   "execution_count": 29,
   "id": "3d535f77",
   "metadata": {},
   "outputs": [
    {
     "data": {
      "text/plain": [
       "[<matplotlib.lines.Line2D at 0x250709a2808>]"
      ]
     },
     "execution_count": 29,
     "metadata": {},
     "output_type": "execute_result"
    },
    {
     "data": {
      "image/png": "[encoded data removed]",
      "text/plain": [
       "<Figure size 640x480 with 1 Axes>"
      ]
     },
     "metadata": {},
     "output_type": "display_data"
    }
   ],
   "source": [
    "plt.scatter(y_test,svr_pred)\n",
    "plt.plot(svr_pred, svr_model.predict(X_test), color = 'green')"
   ]
  },
  {
   "cell_type": "code",
   "execution_count": null,
   "id": "9e2c5daa",
   "metadata": {},
   "outputs": [],
   "source": []
  }
 ],
 "metadata": {
  "kernelspec": {
   "display_name": "Python 3 (ipykernel)",
   "language": "python",
   "name": "python3"
  },
  "language_info": {
   "codemirror_mode": {
    "name": "ipython",
    "version": 3
   },
   "file_extension": ".py",
   "mimetype": "text/x-python",
   "name": "python",
   "nbconvert_exporter": "python",
   "pygments_lexer": "ipython3",
   "version": "3.7.13"
  }
 },
 "nbformat": 4,
 "nbformat_minor": 5
}
